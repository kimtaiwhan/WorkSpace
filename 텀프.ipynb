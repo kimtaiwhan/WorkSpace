{
  "nbformat": 4,
  "nbformat_minor": 0,
  "metadata": {
    "colab": {
      "name": "Untitled의 사본의 사본",
      "provenance": [],
      "collapsed_sections": [
        "zf0yya3NiEQ1",
        "0hNnpFVAG2x0"
      ]
    },
    "kernelspec": {
      "name": "python3",
      "display_name": "Python 3"
    }
  },
  "cells": [
    {
      "cell_type": "markdown",
      "metadata": {
        "id": "1X2PtapUHih_"
      },
      "source": [
        "# 목차\r\n",
        "  1. 모듈 및 함수\r\n",
        "  2. 데이터 핸들링\r\n",
        "  3. Scatter, 상관계수"
      ]
    },
    {
      "cell_type": "markdown",
      "metadata": {
        "id": "zf0yya3NiEQ1"
      },
      "source": [
        "# 1. 모듈 및 함수"
      ]
    },
    {
      "cell_type": "code",
      "metadata": {
        "id": "DDhgCB23iQaY"
      },
      "source": [
        "from datascience import *\n",
        "import numpy as np\n",
        "%matplotlib inline\n",
        "import matplotlib.pyplot as plots\n",
        "import math\n",
        "import re"
      ],
      "execution_count": null,
      "outputs": []
    },
    {
      "cell_type": "code",
      "metadata": {
        "id": "1c9TnYKl2fYw"
      },
      "source": [
        "def isNan(t):\n",
        "  temp = make_array()\n",
        "\n",
        "  for i in range(len(t)):\n",
        "    j = 0\n",
        "\n",
        "    for j in range(len(t.rows)):\n",
        "      if (math.isnan(t.column(i)[j]) == True):\n",
        "        temp = np.append(temp, j)\n",
        "\n",
        "      j += 1\n",
        "\n",
        "  return list((set(temp)))"
      ],
      "execution_count": null,
      "outputs": []
    },
    {
      "cell_type": "code",
      "metadata": {
        "id": "n0myscv6ZIgU"
      },
      "source": [
        "def prtInfo(t):\n",
        "  print('\\n행의 수 : {x}\\n열의 수 : {y}\\nnan이 포함된 행의 수 : {z}'.format(x=t.num_columns, y=t.num_rows, z=len(isNan(t))))"
      ],
      "execution_count": null,
      "outputs": []
    },
    {
      "cell_type": "code",
      "metadata": {
        "id": "6ogbnE6C0bp2"
      },
      "source": [
        "def delDate(t, date):\r\n",
        "  temp = make_array()\r\n",
        "\r\n",
        "  for i in range (t.num_rows):\r\n",
        "    count = 0\r\n",
        "\r\n",
        "    for j in range (len(date)):\r\n",
        "      if t.column(0)[i] == date[j]:\r\n",
        "        count = count + 1\r\n",
        "\r\n",
        "    if count == 0:\r\n",
        "      temp = np.append(temp, i)\r\n",
        "\r\n",
        "  temp = temp.astype(np.int64)  \r\n",
        "  return list(temp)"
      ],
      "execution_count": null,
      "outputs": []
    },
    {
      "cell_type": "code",
      "metadata": {
        "id": "bWfkSx-YBTAk"
      },
      "source": [
        "def standard_units(any_numbers):\r\n",
        "    return (any_numbers - np.mean(any_numbers))/np.std(any_numbers)  "
      ],
      "execution_count": null,
      "outputs": []
    },
    {
      "cell_type": "code",
      "metadata": {
        "id": "vwdX_GlwCFv7"
      },
      "source": [
        "def correlation(t, x, y):\r\n",
        "    return np.mean(standard_units(t.column(x))*standard_units(t.column(y)))"
      ],
      "execution_count": null,
      "outputs": []
    },
    {
      "cell_type": "code",
      "metadata": {
        "id": "UWqXPxfADEPf"
      },
      "source": [
        "def draw_scatter(t, x, y):\r\n",
        "  Table().with_columns(\r\n",
        "    'x (standard units)',  standard_units(t.column(x)), \r\n",
        "    'y (standard units)', standard_units(t.column(y))\r\n",
        "  ).scatter(0, 1);"
      ],
      "execution_count": null,
      "outputs": []
    },
    {
      "cell_type": "markdown",
      "metadata": {
        "id": "Dxf6t9zaHKOs"
      },
      "source": [
        "# 2. 데이터 핸들링"
      ]
    },
    {
      "cell_type": "code",
      "metadata": {
        "colab": {
          "base_uri": "https://localhost:8080/",
          "height": 330
        },
        "id": "6peW1-tUiibR",
        "outputId": "08773532-48b8-48ba-8ba9-42f3eca56dfb"
      },
      "source": [
        "pollution = Table.read_table('서울시 일별 평균 대기오염도 정보.csv', encoding='CP949')\n",
        "pollution.show(5)\n",
        "print('\\n{x}\\n'.format(x=pollution.dtype))"
      ],
      "execution_count": null,
      "outputs": [
        {
          "output_type": "display_data",
          "data": {
            "text/html": [
              "<table border=\"1\" class=\"dataframe\">\n",
              "    <thead>\n",
              "        <tr>\n",
              "            <th>측정일시</th> <th>측정소명</th> <th>이산화질소농도(ppm)</th> <th>오존농도(ppm)</th> <th>일산화탄소농도(ppm)</th> <th>아황산가스(ppm)</th> <th>미세먼지(㎍/㎥)</th> <th>초미세먼지(㎍/㎥)</th>\n",
              "        </tr>\n",
              "    </thead>\n",
              "    <tbody>\n",
              "        <tr>\n",
              "            <td>20201208</td> <td>강남구 </td> <td>0.021       </td> <td>0.021    </td> <td>0.4         </td> <td>0.003     </td> <td>20       </td> <td>12        </td>\n",
              "        </tr>\n",
              "        <tr>\n",
              "            <td>20201208</td> <td>강남대로</td> <td>0.03        </td> <td>0.015    </td> <td>0.6         </td> <td>0.004     </td> <td>24       </td> <td>11        </td>\n",
              "        </tr>\n",
              "        <tr>\n",
              "            <td>20201208</td> <td>강동구 </td> <td>0.025       </td> <td>0.02     </td> <td>0.4         </td> <td>0.003     </td> <td>26       </td> <td>17        </td>\n",
              "        </tr>\n",
              "        <tr>\n",
              "            <td>20201208</td> <td>강변북로</td> <td>0.027       </td> <td>0.018    </td> <td>0.5         </td> <td>0.003     </td> <td>22       </td> <td>14        </td>\n",
              "        </tr>\n",
              "        <tr>\n",
              "            <td>20201208</td> <td>강북구 </td> <td>0.016       </td> <td>0.021    </td> <td>0.4         </td> <td>0.003     </td> <td>25       </td> <td>13        </td>\n",
              "        </tr>\n",
              "    </tbody>\n",
              "</table>\n",
              "<p>... (18178 rows omitted)</p>"
            ],
            "text/plain": [
              "<IPython.core.display.HTML object>"
            ]
          },
          "metadata": {
            "tags": []
          }
        },
        {
          "output_type": "stream",
          "text": [
            "\n",
            "측정일시  | 측정소명 | 이산화질소농도(ppm) | 오존농도(ppm) | 일산화탄소농도(ppm) | 아황산가스(ppm) | 미세먼지(㎍/㎥) | 초미세먼지(㎍/㎥)\n",
            "int64 | <U6  | float64      | float64   | float64      | float64    | float64   | float64\n",
            "\n"
          ],
          "name": "stdout"
        },
        {
          "output_type": "stream",
          "text": [
            "/usr/local/lib/python3.6/dist-packages/datascience/tables.py:192: FutureWarning: Implicit column method lookup is deprecated.\n",
            "  warnings.warn(\"Implicit column method lookup is deprecated.\", FutureWarning)\n"
          ],
          "name": "stderr"
        }
      ]
    },
    {
      "cell_type": "code",
      "metadata": {
        "colab": {
          "base_uri": "https://localhost:8080/",
          "height": 294
        },
        "id": "fDAXQ_XU-TQV",
        "outputId": "a09f7bcb-ca64-4d82-e4a1-ed42d6269a63"
      },
      "source": [
        "pollution = pollution.select(make_array(0, 6, 7))\n",
        "pollution.show(5)\n",
        "prtInfo(pollution)"
      ],
      "execution_count": null,
      "outputs": [
        {
          "output_type": "display_data",
          "data": {
            "text/html": [
              "<table border=\"1\" class=\"dataframe\">\n",
              "    <thead>\n",
              "        <tr>\n",
              "            <th>측정일시</th> <th>미세먼지(㎍/㎥)</th> <th>초미세먼지(㎍/㎥)</th>\n",
              "        </tr>\n",
              "    </thead>\n",
              "    <tbody>\n",
              "        <tr>\n",
              "            <td>20201208</td> <td>20       </td> <td>12        </td>\n",
              "        </tr>\n",
              "        <tr>\n",
              "            <td>20201208</td> <td>24       </td> <td>11        </td>\n",
              "        </tr>\n",
              "        <tr>\n",
              "            <td>20201208</td> <td>26       </td> <td>17        </td>\n",
              "        </tr>\n",
              "        <tr>\n",
              "            <td>20201208</td> <td>22       </td> <td>14        </td>\n",
              "        </tr>\n",
              "        <tr>\n",
              "            <td>20201208</td> <td>25       </td> <td>13        </td>\n",
              "        </tr>\n",
              "    </tbody>\n",
              "</table>\n",
              "<p>... (18178 rows omitted)</p>"
            ],
            "text/plain": [
              "<IPython.core.display.HTML object>"
            ]
          },
          "metadata": {
            "tags": []
          }
        },
        {
          "output_type": "stream",
          "text": [
            "\n",
            "행의 수 : 3\n",
            "열의 수 : 18183\n",
            "nan이 포함된 행의 수 : 696\n"
          ],
          "name": "stdout"
        }
      ]
    },
    {
      "cell_type": "code",
      "metadata": {
        "colab": {
          "base_uri": "https://localhost:8080/",
          "height": 294
        },
        "id": "KX9_HusHOdTB",
        "outputId": "5d6bce99-94dc-4518-de36-e1ff03bcad01"
      },
      "source": [
        "hand_poll = pollution.remove(isNan(pollution)).group('측정일시', np.mean)\n",
        "hand_poll.show(5)\n",
        "prtInfo(hand_poll)"
      ],
      "execution_count": null,
      "outputs": [
        {
          "output_type": "display_data",
          "data": {
            "text/html": [
              "<table border=\"1\" class=\"dataframe\">\n",
              "    <thead>\n",
              "        <tr>\n",
              "            <th>측정일시</th> <th>미세먼지(㎍/㎥) mean</th> <th>초미세먼지(㎍/㎥) mean</th>\n",
              "        </tr>\n",
              "    </thead>\n",
              "    <tbody>\n",
              "        <tr>\n",
              "            <td>20191208</td> <td>54.7174       </td> <td>39.913         </td>\n",
              "        </tr>\n",
              "        <tr>\n",
              "            <td>20191209</td> <td>62.8936       </td> <td>44.7021        </td>\n",
              "        </tr>\n",
              "        <tr>\n",
              "            <td>20191210</td> <td>96.7234       </td> <td>69.4255        </td>\n",
              "        </tr>\n",
              "        <tr>\n",
              "            <td>20191211</td> <td>80.0638       </td> <td>53.6596        </td>\n",
              "        </tr>\n",
              "        <tr>\n",
              "            <td>20191212</td> <td>21.1778       </td> <td>13.9778        </td>\n",
              "        </tr>\n",
              "    </tbody>\n",
              "</table>\n",
              "<p>... (360 rows omitted)</p>"
            ],
            "text/plain": [
              "<IPython.core.display.HTML object>"
            ]
          },
          "metadata": {
            "tags": []
          }
        },
        {
          "output_type": "stream",
          "text": [
            "\n",
            "행의 수 : 3\n",
            "열의 수 : 365\n",
            "nan이 포함된 행의 수 : 0\n"
          ],
          "name": "stdout"
        }
      ]
    },
    {
      "cell_type": "code",
      "metadata": {
        "colab": {
          "base_uri": "https://localhost:8080/",
          "height": 330
        },
        "id": "zWMAl4psir7S",
        "outputId": "314b3996-43a4-403a-9166-9a19d07f82c3"
      },
      "source": [
        "weather = Table.read_table('서울시 일별 날씨 정보.csv', encoding='CP949')\n",
        "weather.show(5)\n",
        "print('\\n{x}\\n'.format(x=weather.dtype))"
      ],
      "execution_count": null,
      "outputs": [
        {
          "output_type": "display_data",
          "data": {
            "text/html": [
              "<table border=\"1\" class=\"dataframe\">\n",
              "    <thead>\n",
              "        <tr>\n",
              "            <th>지점</th> <th>지점명</th> <th>일시</th> <th>평균기온(°C)</th> <th>일강수량(mm)</th> <th>평균 풍속(m/s)</th> <th>최다풍향(16방위)</th> <th>평균 상대습도(%)</th>\n",
              "        </tr>\n",
              "    </thead>\n",
              "    <tbody>\n",
              "        <tr>\n",
              "            <td>108 </td> <td>서울  </td> <td>2019-12-08</td> <td>-0.9    </td> <td>nan     </td> <td>1.4       </td> <td>70        </td> <td>65.1      </td>\n",
              "        </tr>\n",
              "        <tr>\n",
              "            <td>108 </td> <td>서울  </td> <td>2019-12-09</td> <td>3.2     </td> <td>0       </td> <td>2.5       </td> <td>70        </td> <td>56.8      </td>\n",
              "        </tr>\n",
              "        <tr>\n",
              "            <td>108 </td> <td>서울  </td> <td>2019-12-10</td> <td>8.1     </td> <td>1.7     </td> <td>1.2       </td> <td>50        </td> <td>82.3      </td>\n",
              "        </tr>\n",
              "        <tr>\n",
              "            <td>108 </td> <td>서울  </td> <td>2019-12-11</td> <td>6.3     </td> <td>0.2     </td> <td>3.4       </td> <td>270       </td> <td>62        </td>\n",
              "        </tr>\n",
              "        <tr>\n",
              "            <td>108 </td> <td>서울  </td> <td>2019-12-12</td> <td>-0.7    </td> <td>nan     </td> <td>1.8       </td> <td>290       </td> <td>45.4      </td>\n",
              "        </tr>\n",
              "    </tbody>\n",
              "</table>\n",
              "<p>... (361 rows omitted)</p>"
            ],
            "text/plain": [
              "<IPython.core.display.HTML object>"
            ]
          },
          "metadata": {
            "tags": []
          }
        },
        {
          "output_type": "stream",
          "text": [
            "\n",
            "지점    | 지점명  | 일시   | 평균기온(°C) | 일강수량(mm) | 평균 풍속(m/s) | 최다풍향(16방위) | 평균 상대습도(%)\n",
            "int64 | <U2  | <U10 | float64  | float64  | float64    | int64      | float64\n",
            "\n"
          ],
          "name": "stdout"
        },
        {
          "output_type": "stream",
          "text": [
            "/usr/local/lib/python3.6/dist-packages/datascience/tables.py:192: FutureWarning: Implicit column method lookup is deprecated.\n",
            "  warnings.warn(\"Implicit column method lookup is deprecated.\", FutureWarning)\n"
          ],
          "name": "stderr"
        }
      ]
    },
    {
      "cell_type": "code",
      "metadata": {
        "colab": {
          "base_uri": "https://localhost:8080/",
          "height": 294
        },
        "id": "-L6HAMIvgqGs",
        "outputId": "ef5e92f6-6217-45a0-a09f-b1fb79ad832f"
      },
      "source": [
        "for i in range(len(weather.rows)):\n",
        "  weather.column(2)[i] = re.sub('-', '', weather.column(2)[i])\n",
        "\n",
        "weather = weather.with_column('측정일시', weather.column(2).astype(np.int64)).drop('지점', '지점명', '일시', '최다풍향(16방위)')\n",
        "weather.show(5)\n",
        "prtInfo(weather)"
      ],
      "execution_count": null,
      "outputs": [
        {
          "output_type": "display_data",
          "data": {
            "text/html": [
              "<table border=\"1\" class=\"dataframe\">\n",
              "    <thead>\n",
              "        <tr>\n",
              "            <th>평균기온(°C)</th> <th>일강수량(mm)</th> <th>평균 풍속(m/s)</th> <th>평균 상대습도(%)</th> <th>측정일시</th>\n",
              "        </tr>\n",
              "    </thead>\n",
              "    <tbody>\n",
              "        <tr>\n",
              "            <td>-0.9    </td> <td>nan     </td> <td>1.4       </td> <td>65.1      </td> <td>20191208</td>\n",
              "        </tr>\n",
              "        <tr>\n",
              "            <td>3.2     </td> <td>0       </td> <td>2.5       </td> <td>56.8      </td> <td>20191209</td>\n",
              "        </tr>\n",
              "        <tr>\n",
              "            <td>8.1     </td> <td>1.7     </td> <td>1.2       </td> <td>82.3      </td> <td>20191210</td>\n",
              "        </tr>\n",
              "        <tr>\n",
              "            <td>6.3     </td> <td>0.2     </td> <td>3.4       </td> <td>62        </td> <td>20191211</td>\n",
              "        </tr>\n",
              "        <tr>\n",
              "            <td>-0.7    </td> <td>nan     </td> <td>1.8       </td> <td>45.4      </td> <td>20191212</td>\n",
              "        </tr>\n",
              "    </tbody>\n",
              "</table>\n",
              "<p>... (361 rows omitted)</p>"
            ],
            "text/plain": [
              "<IPython.core.display.HTML object>"
            ]
          },
          "metadata": {
            "tags": []
          }
        },
        {
          "output_type": "stream",
          "text": [
            "\n",
            "행의 수 : 5\n",
            "열의 수 : 366\n",
            "nan이 포함된 행의 수 : 209\n"
          ],
          "name": "stdout"
        }
      ]
    },
    {
      "cell_type": "code",
      "metadata": {
        "id": "4Zxv07S-8EeN",
        "colab": {
          "base_uri": "https://localhost:8080/",
          "height": 294
        },
        "outputId": "6786c78f-f2f6-4fd2-9daf-573e31ea1522"
      },
      "source": [
        "hand_wth = weather.remove(isNan(weather)).group('측정일시', np.mean)\n",
        "hand_wth.show(5)\n",
        "prtInfo(hand_wth)"
      ],
      "execution_count": null,
      "outputs": [
        {
          "output_type": "display_data",
          "data": {
            "text/html": [
              "<table border=\"1\" class=\"dataframe\">\n",
              "    <thead>\n",
              "        <tr>\n",
              "            <th>측정일시</th> <th>평균기온(°C) mean</th> <th>일강수량(mm) mean</th> <th>평균 풍속(m/s) mean</th> <th>평균 상대습도(%) mean</th>\n",
              "        </tr>\n",
              "    </thead>\n",
              "    <tbody>\n",
              "        <tr>\n",
              "            <td>20191209</td> <td>3.2          </td> <td>0            </td> <td>2.5            </td> <td>56.8           </td>\n",
              "        </tr>\n",
              "        <tr>\n",
              "            <td>20191210</td> <td>8.1          </td> <td>1.7          </td> <td>1.2            </td> <td>82.3           </td>\n",
              "        </tr>\n",
              "        <tr>\n",
              "            <td>20191211</td> <td>6.3          </td> <td>0.2          </td> <td>3.4            </td> <td>62             </td>\n",
              "        </tr>\n",
              "        <tr>\n",
              "            <td>20191213</td> <td>2.1          </td> <td>1            </td> <td>2              </td> <td>53.6           </td>\n",
              "        </tr>\n",
              "        <tr>\n",
              "            <td>20191214</td> <td>2.7          </td> <td>0            </td> <td>2.3            </td> <td>58.3           </td>\n",
              "        </tr>\n",
              "    </tbody>\n",
              "</table>\n",
              "<p>... (152 rows omitted)</p>"
            ],
            "text/plain": [
              "<IPython.core.display.HTML object>"
            ]
          },
          "metadata": {
            "tags": []
          }
        },
        {
          "output_type": "stream",
          "text": [
            "\n",
            "행의 수 : 5\n",
            "열의 수 : 157\n",
            "nan이 포함된 행의 수 : 0\n"
          ],
          "name": "stdout"
        }
      ]
    },
    {
      "cell_type": "code",
      "metadata": {
        "id": "ZCiy-pPQj568"
      },
      "source": [
        "date = make_array()\n",
        "\n",
        "for i in (hand_poll.column(0)):\n",
        "  for j in (hand_wth.column(0)):\n",
        "    if i == j:\n",
        "      date = np.append(date, i)\n",
        "\n",
        "date = date.astype(np.int64)"
      ],
      "execution_count": null,
      "outputs": []
    },
    {
      "cell_type": "code",
      "metadata": {
        "colab": {
          "base_uri": "https://localhost:8080/",
          "height": 294
        },
        "id": "9ThALaZEvVq2",
        "outputId": "fbfaa3e3-5932-4c00-f668-e67c797906fa"
      },
      "source": [
        "hand_poll.remove(delDate(hand_poll, date)).group('측정일시', np.mean)\r\n",
        "hand_wth.remove(delDate(hand_wth, date)).group('측정일시', np.mean)\r\n",
        "\r\n",
        "finish = hand_wth.with_columns(\r\n",
        "    'Dust(mg/m^3)', hand_poll.column(1),\r\n",
        "    'Ultra Dust(mg/m^3)', hand_poll.column(2)\r\n",
        ")\r\n",
        "\r\n",
        "finish.relabel(\r\n",
        "    '평균기온(°C) mean', 'Temperature(°C)').relabel(\r\n",
        "        '일강수량(mm) mean', 'Precipitation(mm)'\r\n",
        "    ).relabel(\r\n",
        "        '평균 풍속(m/s) mean', 'Wind speed(m/s)'\r\n",
        "    ).relabel(\r\n",
        "        '평균 상대습도(%) mean', 'Humidity(%)'\r\n",
        "    )\r\n",
        "\r\n",
        "finish.show(5)\r\n",
        "prtInfo(finish)"
      ],
      "execution_count": null,
      "outputs": [
        {
          "output_type": "display_data",
          "data": {
            "text/html": [
              "<table border=\"1\" class=\"dataframe\">\n",
              "    <thead>\n",
              "        <tr>\n",
              "            <th>측정일시</th> <th>Temperature(°C)</th> <th>Precipitation(mm)</th> <th>Wind speed(m/s)</th> <th>Humidity(%)</th> <th>Dust(mg/m^3)</th> <th>Ultra Dust(mg/m^3)</th>\n",
              "        </tr>\n",
              "    </thead>\n",
              "    <tbody>\n",
              "        <tr>\n",
              "            <td>20191209</td> <td>3.2            </td> <td>0                </td> <td>2.5            </td> <td>56.8       </td> <td>62.8936     </td> <td>44.7021           </td>\n",
              "        </tr>\n",
              "        <tr>\n",
              "            <td>20191210</td> <td>8.1            </td> <td>1.7              </td> <td>1.2            </td> <td>82.3       </td> <td>96.7234     </td> <td>69.4255           </td>\n",
              "        </tr>\n",
              "        <tr>\n",
              "            <td>20191211</td> <td>6.3            </td> <td>0.2              </td> <td>3.4            </td> <td>62         </td> <td>80.0638     </td> <td>53.6596           </td>\n",
              "        </tr>\n",
              "        <tr>\n",
              "            <td>20191213</td> <td>2.1            </td> <td>1                </td> <td>2              </td> <td>53.6       </td> <td>29.3778     </td> <td>16.7333           </td>\n",
              "        </tr>\n",
              "        <tr>\n",
              "            <td>20191214</td> <td>2.7            </td> <td>0                </td> <td>2.3            </td> <td>58.3       </td> <td>39.5556     </td> <td>25.7333           </td>\n",
              "        </tr>\n",
              "    </tbody>\n",
              "</table>\n",
              "<p>... (151 rows omitted)</p>"
            ],
            "text/plain": [
              "<IPython.core.display.HTML object>"
            ]
          },
          "metadata": {
            "tags": []
          }
        },
        {
          "output_type": "stream",
          "text": [
            "\n",
            "행의 수 : 7\n",
            "열의 수 : 156\n",
            "nan이 포함된 행의 수 : 0\n"
          ],
          "name": "stdout"
        }
      ]
    },
    {
      "cell_type": "markdown",
      "metadata": {
        "id": "0hNnpFVAG2x0"
      },
      "source": [
        "# 3. Scatter, 상관계수"
      ]
    },
    {
      "cell_type": "code",
      "metadata": {
        "colab": {
          "base_uri": "https://localhost:8080/",
          "height": 353
        },
        "id": "oxUERj1TDTPS",
        "outputId": "24ef0064-8b40-4c2c-9a77-510f99dd4d23"
      },
      "source": [
        "draw_scatter(finish, 1, 5)\r\n",
        "print(\"상관계수 : {x}\".format(x=correlation(finish, 1, 5)))"
      ],
      "execution_count": null,
      "outputs": [
        {
          "output_type": "stream",
          "text": [
            "상관계수 : -0.3152257799410169\n"
          ],
          "name": "stdout"
        },
        {
          "output_type": "display_data",
          "data": {
            "image/png": "[encoded data removed]",
            "text/plain": [
              "<Figure size 360x360 with 1 Axes>"
            ]
          },
          "metadata": {
            "tags": [],
            "needs_background": "light"
          }
        }
      ]
    },
    {
      "cell_type": "code",
      "metadata": {
        "colab": {
          "base_uri": "https://localhost:8080/",
          "height": 353
        },
        "id": "ezDppHufBOrt",
        "outputId": "49e87154-7e56-4854-8b7d-1302267feaba"
      },
      "source": [
        "draw_scatter(finish, 2, 5)\r\n",
        "print(\"상관계수 : {x}\".format(x=correlation(finish, 2, 5)))"
      ],
      "execution_count": null,
      "outputs": [
        {
          "output_type": "stream",
          "text": [
            "상관계수 : -0.33943273042912714\n"
          ],
          "name": "stdout"
        },
        {
          "output_type": "display_data",
          "data": {
            "image/png": "[encoded data removed]",
            "text/plain": [
              "<Figure size 360x360 with 1 Axes>"
            ]
          },
          "metadata": {
            "tags": [],
            "needs_background": "light"
          }
        }
      ]
    },
    {
      "cell_type": "code",
      "metadata": {
        "colab": {
          "base_uri": "https://localhost:8080/",
          "height": 353
        },
        "id": "qnBk-4KfCkmj",
        "outputId": "fea20bba-2cbc-4c23-e370-c97121ea7333"
      },
      "source": [
        "draw_scatter(finish, 3, 5)\r\n",
        "print(\"상관계수 : {x}\".format(x=correlation(finish, 3, 5)))"
      ],
      "execution_count": null,
      "outputs": [
        {
          "output_type": "stream",
          "text": [
            "상관계수 : -0.11073286180687598\n"
          ],
          "name": "stdout"
        },
        {
          "output_type": "display_data",
          "data": {
            "image/png": "[encoded data removed]",
            "text/plain": [
              "<Figure size 360x360 with 1 Axes>"
            ]
          },
          "metadata": {
            "tags": [],
            "needs_background": "light"
          }
        }
      ]
    },
    {
      "cell_type": "code",
      "metadata": {
        "colab": {
          "base_uri": "https://localhost:8080/",
          "height": 353
        },
        "id": "6Wnal5DWCyqk",
        "outputId": "f39198ee-de3a-4ebb-95d5-d755be4a4957"
      },
      "source": [
        "draw_scatter(finish, 4, 5)\r\n",
        "print(\"상관계수 : {x}\".format(x=correlation(finish, 4, 5)))"
      ],
      "execution_count": null,
      "outputs": [
        {
          "output_type": "stream",
          "text": [
            "상관계수 : -0.38222282214448255\n"
          ],
          "name": "stdout"
        },
        {
          "output_type": "display_data",
          "data": {
            "image/png": "[encoded data removed]",
            "text/plain": [
              "<Figure size 360x360 with 1 Axes>"
            ]
          },
          "metadata": {
            "tags": [],
            "needs_background": "light"
          }
        }
      ]
    },
    {
      "cell_type": "code",
      "metadata": {
        "colab": {
          "base_uri": "https://localhost:8080/",
          "height": 353
        },
        "id": "lPQIBvqgDnYM",
        "outputId": "21db6d4c-dc3b-4c2a-9ea9-31fc7ce4f95c"
      },
      "source": [
        "draw_scatter(finish, 1, 6)\r\n",
        "print(\"상관계수 : {x}\".format(x=correlation(finish, 1, 6)))"
      ],
      "execution_count": null,
      "outputs": [
        {
          "output_type": "stream",
          "text": [
            "상관계수 : -0.3649449200339349\n"
          ],
          "name": "stdout"
        },
        {
          "output_type": "display_data",
          "data": {
            "image/png": "[encoded data removed]",
            "text/plain": [
              "<Figure size 360x360 with 1 Axes>"
            ]
          },
          "metadata": {
            "tags": [],
            "needs_background": "light"
          }
        }
      ]
    },
    {
      "cell_type": "code",
      "metadata": {
        "colab": {
          "base_uri": "https://localhost:8080/",
          "height": 353
        },
        "id": "x5FZ-VxVDpOT",
        "outputId": "4baf5df1-42fb-4ed8-a690-fb6f10405aea"
      },
      "source": [
        "draw_scatter(finish, 2, 6)\r\n",
        "print(\"상관계수 : {x}\".format(x=correlation(finish, 2, 6)))"
      ],
      "execution_count": null,
      "outputs": [
        {
          "output_type": "stream",
          "text": [
            "상관계수 : -0.31858775736592776\n"
          ],
          "name": "stdout"
        },
        {
          "output_type": "display_data",
          "data": {
            "image/png": "[encoded data removed]",
            "text/plain": [
              "<Figure size 360x360 with 1 Axes>"
            ]
          },
          "metadata": {
            "tags": [],
            "needs_background": "light"
          }
        }
      ]
    },
    {
      "cell_type": "code",
      "metadata": {
        "colab": {
          "base_uri": "https://localhost:8080/",
          "height": 353
        },
        "id": "RZ3W68Y_DqQy",
        "outputId": "09b70ddc-d604-4136-a5be-6356b811dcc1"
      },
      "source": [
        "draw_scatter(finish, 3, 6)\r\n",
        "print(\"상관계수 : {x}\".format(x=correlation(finish, 3, 6)))"
      ],
      "execution_count": null,
      "outputs": [
        {
          "output_type": "stream",
          "text": [
            "상관계수 : -0.2393118701428856\n"
          ],
          "name": "stdout"
        },
        {
          "output_type": "display_data",
          "data": {
            "image/png": "[encoded data removed]",
            "text/plain": [
              "<Figure size 360x360 with 1 Axes>"
            ]
          },
          "metadata": {
            "tags": [],
            "needs_background": "light"
          }
        }
      ]
    },
    {
      "cell_type": "code",
      "metadata": {
        "colab": {
          "base_uri": "https://localhost:8080/",
          "height": 353
        },
        "id": "j67nZPAXDrXS",
        "outputId": "83b33e73-30af-4945-f363-85bb4f784150"
      },
      "source": [
        "draw_scatter(finish, 4, 6)\r\n",
        "print(\"상관계수 : {x}\".format(x=correlation(finish, 4, 6)))"
      ],
      "execution_count": null,
      "outputs": [
        {
          "output_type": "stream",
          "text": [
            "상관계수 : -0.281811634869631\n"
          ],
          "name": "stdout"
        },
        {
          "output_type": "display_data",
          "data": {
            "image/png": "[encoded data removed]",
            "text/plain": [
              "<Figure size 360x360 with 1 Axes>"
            ]
          },
          "metadata": {
            "tags": [],
            "needs_background": "light"
          }
        }
      ]
    }
  ]
}